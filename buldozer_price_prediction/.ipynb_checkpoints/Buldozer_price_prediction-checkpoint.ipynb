{
 "cells": [
  {
   "cell_type": "code",
   "execution_count": 2,
   "metadata": {},
   "outputs": [],
   "source": [
    "import pandas as pd\n",
    "import numpy as np\n",
    "import matplotlib.pyplot as plt"
   ]
  },
  {
   "cell_type": "code",
   "execution_count": 3,
   "metadata": {},
   "outputs": [],
   "source": [
    "df = pd.read_csv(\"TrainAndValid.csv\",encoding='utf-8', low_memory=False )"
   ]
  },
  {
   "cell_type": "code",
   "execution_count": 5,
   "metadata": {},
   "outputs": [
    {
     "data": {
      "text/plain": [
       "(412698, 53)"
      ]
     },
     "execution_count": 5,
     "metadata": {},
     "output_type": "execute_result"
    }
   ],
   "source": [
    "df.shape"
   ]
  },
  {
   "cell_type": "code",
   "execution_count": 7,
   "metadata": {},
   "outputs": [
    {
     "name": "stdout",
     "output_type": "stream",
     "text": [
      "<class 'pandas.core.frame.DataFrame'>\n",
      "RangeIndex: 412698 entries, 0 to 412697\n",
      "Data columns (total 53 columns):\n",
      "SalesID                     412698 non-null int64\n",
      "SalePrice                   412698 non-null float64\n",
      "MachineID                   412698 non-null int64\n",
      "ModelID                     412698 non-null int64\n",
      "datasource                  412698 non-null int64\n",
      "auctioneerID                392562 non-null float64\n",
      "YearMade                    412698 non-null int64\n",
      "MachineHoursCurrentMeter    147504 non-null float64\n",
      "UsageBand                   73670 non-null object\n",
      "saledate                    412698 non-null object\n",
      "fiModelDesc                 412698 non-null object\n",
      "fiBaseModel                 412698 non-null object\n",
      "fiSecondaryDesc             271971 non-null object\n",
      "fiModelSeries               58667 non-null object\n",
      "fiModelDescriptor           74816 non-null object\n",
      "ProductSize                 196093 non-null object\n",
      "fiProductClassDesc          412698 non-null object\n",
      "state                       412698 non-null object\n",
      "ProductGroup                412698 non-null object\n",
      "ProductGroupDesc            412698 non-null object\n",
      "Drive_System                107087 non-null object\n",
      "Enclosure                   412364 non-null object\n",
      "Forks                       197715 non-null object\n",
      "Pad_Type                    81096 non-null object\n",
      "Ride_Control                152728 non-null object\n",
      "Stick                       81096 non-null object\n",
      "Transmission                188007 non-null object\n",
      "Turbocharged                81096 non-null object\n",
      "Blade_Extension             25983 non-null object\n",
      "Blade_Width                 25983 non-null object\n",
      "Enclosure_Type              25983 non-null object\n",
      "Engine_Horsepower           25983 non-null object\n",
      "Hydraulics                  330133 non-null object\n",
      "Pushblock                   25983 non-null object\n",
      "Ripper                      106945 non-null object\n",
      "Scarifier                   25994 non-null object\n",
      "Tip_Control                 25983 non-null object\n",
      "Tire_Size                   97638 non-null object\n",
      "Coupler                     220679 non-null object\n",
      "Coupler_System              44974 non-null object\n",
      "Grouser_Tracks              44875 non-null object\n",
      "Hydraulics_Flow             44875 non-null object\n",
      "Track_Type                  102193 non-null object\n",
      "Undercarriage_Pad_Width     102916 non-null object\n",
      "Stick_Length                102261 non-null object\n",
      "Thumb                       102332 non-null object\n",
      "Pattern_Changer             102261 non-null object\n",
      "Grouser_Type                102193 non-null object\n",
      "Backhoe_Mounting            80712 non-null object\n",
      "Blade_Type                  81875 non-null object\n",
      "Travel_Controls             81877 non-null object\n",
      "Differential_Type           71564 non-null object\n",
      "Steering_Controls           71522 non-null object\n",
      "dtypes: float64(3), int64(5), object(45)\n",
      "memory usage: 166.9+ MB\n"
     ]
    }
   ],
   "source": [
    "df.isna().sum"
   ]
  },
  {
   "cell_type": "code",
   "execution_count": null,
   "metadata": {},
   "outputs": [],
   "source": []
  }
 ],
 "metadata": {
  "kernelspec": {
   "display_name": "Python 3",
   "language": "python",
   "name": "python3"
  },
  "language_info": {
   "codemirror_mode": {
    "name": "ipython",
    "version": 3
   },
   "file_extension": ".py",
   "mimetype": "text/x-python",
   "name": "python",
   "nbconvert_exporter": "python",
   "pygments_lexer": "ipython3",
   "version": "3.7.3"
  }
 },
 "nbformat": 4,
 "nbformat_minor": 2
}
